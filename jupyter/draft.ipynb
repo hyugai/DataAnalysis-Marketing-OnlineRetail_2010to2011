{
 "cells": [
  {
   "cell_type": "code",
   "execution_count": 16,
   "metadata": {},
   "outputs": [],
   "source": [
    "# data structures \n",
    "import numpy as np\n",
    "import pandas as pd\n",
    "\n",
    "# text analysis\n",
    "import nltk\n",
    "from nltk.tokenize import word_tokenize\n",
    "import string"
   ]
  },
  {
   "cell_type": "code",
   "execution_count": 15,
   "metadata": {},
   "outputs": [],
   "source": [
    "# dataset\n",
    "df_cleaned = pd.read_csv('../resource/data/cleaned.csv')\n",
    "## \n",
    "texts = df_cleaned['Description'].str.lower().str.split().map(lambda x: ' '.join(x)).values"
   ]
  },
  {
   "cell_type": "code",
   "execution_count": 33,
   "metadata": {},
   "outputs": [],
   "source": [
    "# stopwords & punctuation & number\n",
    "stopwords = nltk.corpus.stopwords.words('english')\n",
    "punctuations = string.punctuation\n",
    "##\n",
    "def remove_stopwords_punctuation(text: str) -> str:\n",
    "    filtered_text = [token for token in word_tokenize(text) if token not in stopwords and token not in punctuations]\n",
    "    return ' '.join([token for token in filtered_text if not token.isnumeric()])\n",
    "vfunc = np.vectorize(remove_stopwords_punctuation)\n",
    "filtered_texts = vfunc(texts)"
   ]
  }
 ],
 "metadata": {
  "kernelspec": {
   "display_name": "da_lab",
   "language": "python",
   "name": "python3"
  },
  "language_info": {
   "codemirror_mode": {
    "name": "ipython",
    "version": 3
   },
   "file_extension": ".py",
   "mimetype": "text/x-python",
   "name": "python",
   "nbconvert_exporter": "python",
   "pygments_lexer": "ipython3",
   "version": "3.11.9"
  }
 },
 "nbformat": 4,
 "nbformat_minor": 2
}
